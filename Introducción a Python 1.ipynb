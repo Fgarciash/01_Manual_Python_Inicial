{
 "cells": [
  {
   "cell_type": "markdown",
   "metadata": {},
   "source": [
    "# Manual Python Inicial."
   ]
  },
  {
   "cell_type": "markdown",
   "metadata": {},
   "source": [
    "Python es un lenguaje que soporta la programación orientación a objetos, programación imperativa, y programación funcional. Puede ser operado en spider o Jupyter (Anaconda Navigator), google colab (https://colab.research.google.com/), Sublime text, o simplemente por consola con \"símbolo del sistema\" (smd), entre muchos más.  \n",
    "\n",
    "Cabe mencionar que, a diferencia de otros programas como SQL o R, en Python es necesario utilizar el metodo de \"identación\", o dicho de otro modo, utilización de \"sangrías\" entre los textos de código, las cuales indican al programa el inicio y finalización de una instrucción.\n",
    "\n",
    "Jupyter de Anaconda Navigator será el programa que utilizaremos para construir este breve manual secuencialmente ejecutable. Si usted recientemente se familiarizó con Jupyter. Es necesario comenentarle que mediante el caracter \"#\" puede dejar comentarios que se almacenaran automáticamente en su archivo. También es necesario comentar que los ejemplos realizados en este manual están en algunas partes secuencialmente ordenados, por ello en ocasiones podrían generarse errores producto de una doble ejecución por su parte, por ejemplo, tratar de eliminar un número o elemento que ya fue eliminado. Ante esta situación es necesario ejecutar nuevamente la secuencia. Esto lo puede hacer en: \"Menú\"- \"Kernel\" - \"Restart & Clear Output\" y volver a ejecurar todo, o desde donde sea requerido."
   ]
  },
  {
   "cell_type": "markdown",
   "metadata": {},
   "source": [
    "### Vamos!"
   ]
  },
  {
   "cell_type": "markdown",
   "metadata": {},
   "source": [
    "La función print se utilizada para imprimir los resultados almacenados en una lista, en un diccionario, tupla u objeto. O simplemente imprimir un mensaje como el siguiente ejemplo."
   ]
  },
  {
   "cell_type": "code",
   "execution_count": null,
   "metadata": {},
   "outputs": [],
   "source": [
    "print(\"Hola mundo\") # Esto es un comentario que debido al caracter inicial \"#\" no se imprimirá"
   ]
  },
  {
   "cell_type": "markdown",
   "metadata": {},
   "source": [
    "### Manejo de listas\n",
    "\n",
    "Una lista es una estructura de datos. Lo especial de las listas en Python es que podemos almacenar cualquier tipo de valor como: enteros, cadenas de texto, funciones, etc.\n",
    "\n",
    "Ahora crearemos e imprimiremos por pantalla una lista."
   ]
  },
  {
   "cell_type": "code",
   "execution_count": null,
   "metadata": {},
   "outputs": [],
   "source": [
    "Lista=[\"Elena\", \"Diego\", \"Claudia\", \"Patricio\"]"
   ]
  },
  {
   "cell_type": "markdown",
   "metadata": {},
   "source": [
    "Además de poder imprimir sólo la lista que acabamos de crear, y que hemos almacenado como objeto de nombre \"Lista\", podemos también imprimir el tercer objeto de la lista, o un rango determinado de la lista, etc.\n",
    "\n",
    "##### *notar que en python la numeración comienza desde cero!"
   ]
  },
  {
   "cell_type": "code",
   "execution_count": null,
   "metadata": {},
   "outputs": [],
   "source": [
    "print(Lista[:])"
   ]
  },
  {
   "cell_type": "code",
   "execution_count": null,
   "metadata": {},
   "outputs": [],
   "source": [
    "print(Lista[2]) # imprimiendo el tercer objeto"
   ]
  },
  {
   "cell_type": "code",
   "execution_count": null,
   "metadata": {},
   "outputs": [],
   "source": [
    "print(Lista[0:3]) # imprimiendo desde el primer objeto hasta el tercero"
   ]
  },
  {
   "cell_type": "code",
   "execution_count": null,
   "metadata": {},
   "outputs": [],
   "source": [
    "print(Lista[:3]) # al no agregar valor, asume por default que se trata del primer objeto"
   ]
  },
  {
   "cell_type": "markdown",
   "metadata": {},
   "source": [
    "En las listas podemos agregar un nuevo elemento u objeto con el comando \"append\"."
   ]
  },
  {
   "cell_type": "code",
   "execution_count": null,
   "metadata": {},
   "outputs": [],
   "source": [
    "Lista.append(\"Myriam\")\n",
    "print(Lista[:])"
   ]
  },
  {
   "cell_type": "markdown",
   "metadata": {},
   "source": [
    "Podemos definir el lugar de la lista en donde queramos alojar un elemento. (En el ejemplo = 3°)"
   ]
  },
  {
   "cell_type": "code",
   "execution_count": null,
   "metadata": {},
   "outputs": [],
   "source": [
    "Lista.insert(2,\"Gonzalo\")\n",
    "print(Lista[:])"
   ]
  },
  {
   "cell_type": "markdown",
   "metadata": {},
   "source": [
    "Podemos agregar varios elementos mediante el comando \"extend\""
   ]
  },
  {
   "cell_type": "code",
   "execution_count": null,
   "metadata": {},
   "outputs": [],
   "source": [
    "Lista.extend([\"Fernando\", \"José\",\"Alberto\"])\n",
    "print(Lista[:])"
   ]
  },
  {
   "cell_type": "markdown",
   "metadata": {},
   "source": [
    "Podemos consultar la existencia de un elemento en la lista, en este caso el resultado será un booleano (TRUE o FALSE)."
   ]
  },
  {
   "cell_type": "code",
   "execution_count": null,
   "metadata": {},
   "outputs": [],
   "source": [
    "print(\"Pepe\" in Lista)"
   ]
  },
  {
   "cell_type": "code",
   "execution_count": null,
   "metadata": {},
   "outputs": [],
   "source": [
    "print(\"Diego\" in Lista)"
   ]
  },
  {
   "cell_type": "markdown",
   "metadata": {},
   "source": [
    "Consultar la posición de un elemento en la lista con el comando \"index\""
   ]
  },
  {
   "cell_type": "code",
   "execution_count": null,
   "metadata": {
    "scrolled": true
   },
   "outputs": [],
   "source": [
    "print(Lista.index(\"Claudia\"))"
   ]
  },
  {
   "cell_type": "markdown",
   "metadata": {},
   "source": [
    "Eliminar un elemento con el comado remove"
   ]
  },
  {
   "cell_type": "code",
   "execution_count": null,
   "metadata": {},
   "outputs": [],
   "source": [
    "print(Lista[:])\n",
    "Lista.remove(\"Fernando\")\n",
    "print(Lista[:])"
   ]
  },
  {
   "cell_type": "markdown",
   "metadata": {},
   "source": [
    "Eliminar el último elemento"
   ]
  },
  {
   "cell_type": "code",
   "execution_count": null,
   "metadata": {},
   "outputs": [],
   "source": [
    "print(Lista[:])\n",
    "Lista.pop()\n",
    "print(Lista[:])"
   ]
  },
  {
   "cell_type": "markdown",
   "metadata": {},
   "source": [
    "También podemos unir la lista original (Lista) con una nueva (Lista2) par crear una tercera lista."
   ]
  },
  {
   "cell_type": "code",
   "execution_count": null,
   "metadata": {},
   "outputs": [],
   "source": [
    "print(Lista[:]) # lista original"
   ]
  },
  {
   "cell_type": "code",
   "execution_count": null,
   "metadata": {},
   "outputs": [],
   "source": [
    "Lista2=[\"Sandra\", \"Carolina\"] # nueva lista"
   ]
  },
  {
   "cell_type": "code",
   "execution_count": null,
   "metadata": {},
   "outputs": [],
   "source": [
    "print(Lista2[:]) # visualizamos la nueva lista"
   ]
  },
  {
   "cell_type": "code",
   "execution_count": null,
   "metadata": {},
   "outputs": [],
   "source": [
    "Lista3=Lista+Lista2 # unimos ambas lista en una nueva"
   ]
  },
  {
   "cell_type": "code",
   "execution_count": null,
   "metadata": {},
   "outputs": [],
   "source": [
    "print(Lista3[:]) # imprimimos"
   ]
  },
  {
   "cell_type": "markdown",
   "metadata": {},
   "source": [
    "Existe además un operador multiplicador que permite crear una nueva lista con el número de repeticiones que necesitemos. en el ejemplo se replica 3 veces."
   ]
  },
  {
   "cell_type": "code",
   "execution_count": null,
   "metadata": {},
   "outputs": [],
   "source": [
    "Lista4=[\"Felipe\", \"Hernan\"]*3"
   ]
  },
  {
   "cell_type": "code",
   "execution_count": null,
   "metadata": {},
   "outputs": [],
   "source": [
    "print(Lista4)"
   ]
  },
  {
   "cell_type": "markdown",
   "metadata": {},
   "source": [
    "## Diccionarios\n",
    "\n",
    "Los diccionarios en Python son un tipo de estructuras de datos que permite guardar un conjunto no ordenado de pares clave-valor, siendo estas claves únicas dentro de un mismo diccionario (es decir que no pueden existir dos elementos con una misma clave).\n",
    "\n",
    "Por ejemplo crearemos un diccionario con algunos paises y sus capitales"
   ]
  },
  {
   "cell_type": "code",
   "execution_count": null,
   "metadata": {},
   "outputs": [],
   "source": [
    "Diccionario={\"Chile\":\"Santiago\",\"Francia\":\"Paris\", \"Bolivia\":\"La Paz\", \"Reino Unido\":\"Londres\"\n",
    "               , \"Perú\":\"Lima\", \"España\":\"Madrid\"}\n",
    "print(Diccionario)"
   ]
  },
  {
   "cell_type": "markdown",
   "metadata": {},
   "source": [
    "Consultamos la clave Chile"
   ]
  },
  {
   "cell_type": "code",
   "execution_count": null,
   "metadata": {},
   "outputs": [],
   "source": [
    "print(Diccionario[\"Chile\"])"
   ]
  },
  {
   "cell_type": "markdown",
   "metadata": {},
   "source": [
    "Podemos agregar contenido a nuestra lista, reemplazarlo en caso de haber cometido un error, o simplemete elimiarlo. Si no se especifica la posición, entonces por default el nuevo registro se agregará al final del diccionaro."
   ]
  },
  {
   "cell_type": "code",
   "execution_count": null,
   "metadata": {
    "scrolled": true
   },
   "outputs": [],
   "source": [
    "Diccionario[\"Argentina\"]=\"Bariloche\"\n",
    "\n",
    "print(Diccionario)"
   ]
  },
  {
   "cell_type": "markdown",
   "metadata": {},
   "source": [
    "Podemos corregir y reemplazar a Buenos Aires por Bariloche."
   ]
  },
  {
   "cell_type": "code",
   "execution_count": null,
   "metadata": {},
   "outputs": [],
   "source": [
    "Diccionario[\"Argentina\"]=\"Buenos Aires\"\n",
    "print(Diccionario)"
   ]
  },
  {
   "cell_type": "markdown",
   "metadata": {},
   "source": [
    "Podemos eliminar un contenido con el comando \"del\"."
   ]
  },
  {
   "cell_type": "code",
   "execution_count": null,
   "metadata": {},
   "outputs": [],
   "source": [
    "print(Diccionario)\n",
    "del Diccionario[\"Reino Unido\"]\n",
    "print(Diccionario)"
   ]
  },
  {
   "cell_type": "markdown",
   "metadata": {},
   "source": [
    "## Trabajando con tuplas\n",
    "\n",
    "Una tupla es un conjunto ordenado e inmutable de elementos del mismo o diferente tipo (string, numérico, decimal, etc). Las tuplas se representan escribiendo cada elemento separado por coma, y todo almacenado entre paréntesis cuadrados.\n",
    "\n",
    "Crearemos una tupla y la asignaremos como clave a un diccionario de la siguiente manera:"
   ]
  },
  {
   "cell_type": "code",
   "execution_count": null,
   "metadata": {},
   "outputs": [],
   "source": [
    "Tupla=[\"Chile\",\"Argentina\",\"España\",\"Perú\",\"Reino Unido\",\"Argentina\"]\n",
    "\n",
    "Diccionario2={Tupla[0]:\"Santiago\",Tupla[1]:\"Buenos Aires\",Tupla[2]:\"Madrid\",\n",
    "                Tupla[3]:\"Lima\",Tupla[4]:\"Londres\",Tupla[5]:\"Buenos Aires\"}\n"
   ]
  },
  {
   "cell_type": "markdown",
   "metadata": {},
   "source": [
    "Imprimiendo el diccionario."
   ]
  },
  {
   "cell_type": "code",
   "execution_count": null,
   "metadata": {},
   "outputs": [],
   "source": [
    "print(Diccionario2)"
   ]
  },
  {
   "cell_type": "markdown",
   "metadata": {},
   "source": [
    "Preguntar una clave en particular"
   ]
  },
  {
   "cell_type": "code",
   "execution_count": null,
   "metadata": {},
   "outputs": [],
   "source": [
    "print(Diccionario2[\"Perú\"])"
   ]
  },
  {
   "cell_type": "markdown",
   "metadata": {},
   "source": [
    "También es posible agregar un número como elemento de una tupla. Por ejemplo los anillos conseguidos por los Chicago Bulls."
   ]
  },
  {
   "cell_type": "code",
   "execution_count": null,
   "metadata": {},
   "outputs": [],
   "source": [
    "Diccionario3={23:\"Jorda\", \"nombre\":\"Michael\", \"equipo\":\"Chicago\", \n",
    "                \"anillos\":[1991,1992,1993,1996,1997,1998]}\n",
    "\n",
    "print(Diccionario3)"
   ]
  },
  {
   "cell_type": "markdown",
   "metadata": {},
   "source": [
    "y luego consultar lo que necesitemos"
   ]
  },
  {
   "cell_type": "code",
   "execution_count": null,
   "metadata": {},
   "outputs": [],
   "source": [
    "print(Diccionario3[\"equipo\"])\n",
    "print(Diccionario3[\"anillos\"])\n"
   ]
  },
  {
   "cell_type": "markdown",
   "metadata": {},
   "source": [
    "Por otro lado también es factible crear un diccionario dentro de otro diccionario (subdiccionario)"
   ]
  },
  {
   "cell_type": "code",
   "execution_count": null,
   "metadata": {},
   "outputs": [],
   "source": [
    "Diccionario4={23:\"Jorda\", \"nombre\":\"Michael\", \"equipo\":\"Chicago\", \n",
    "                \"anillos\":{\"temporadas\":[1991,1992,1993,1996,1997,1998]}}\n",
    "\n",
    "print(Diccionario4)"
   ]
  },
  {
   "cell_type": "code",
   "execution_count": null,
   "metadata": {},
   "outputs": [],
   "source": [
    "print(Diccionario4[\"equipo\"])\n",
    "print(Diccionario4[\"anillos\"])\n"
   ]
  },
  {
   "cell_type": "markdown",
   "metadata": {},
   "source": [
    "Consultando las claves y los valores"
   ]
  },
  {
   "cell_type": "code",
   "execution_count": null,
   "metadata": {},
   "outputs": [],
   "source": [
    "print(Diccionario4.keys())"
   ]
  },
  {
   "cell_type": "code",
   "execution_count": null,
   "metadata": {},
   "outputs": [],
   "source": [
    "print(Diccionario4.values())"
   ]
  },
  {
   "cell_type": "markdown",
   "metadata": {},
   "source": [
    "## Utlización de condicionales"
   ]
  },
  {
   "cell_type": "markdown",
   "metadata": {},
   "source": [
    "El condicional \"if\" se utiliza para evaluar la ocurrencia de una situación. \n",
    "\n",
    "Por ejemplo, según la nota imputada por el usuario entregar la respuesta \"aprobado\" o \"suspenso\".\n",
    "\n",
    "En este ejemplo se debe imputar un caracter numérico. Si ingresa un caracter texto (string), el programa arrojará un error debido a que mediante la función se le está instruyendo evaluar un número."
   ]
  },
  {
   "cell_type": "code",
   "execution_count": null,
   "metadata": {},
   "outputs": [],
   "source": [
    "def evaluacion(nota):\n",
    "\tvaloracion=\"aprobado\"  ## \t esto corresponde a la identación necesaria en Phyton\n",
    "\tif nota<5:\n",
    "\t\tvaloracion=\"suspenso\"\n",
    "\treturn valoracion\n",
    "\n"
   ]
  },
  {
   "cell_type": "code",
   "execution_count": null,
   "metadata": {
    "scrolled": true
   },
   "outputs": [],
   "source": [
    "print(evaluacion(5))"
   ]
  },
  {
   "cell_type": "markdown",
   "metadata": {},
   "source": [
    "Una alternativa de programación es la utilización del comando \"input()\", que permite a un eventual ususario ingresar la inofmación."
   ]
  },
  {
   "cell_type": "code",
   "execution_count": null,
   "metadata": {},
   "outputs": [],
   "source": [
    "print(\"Programa de evaluación de notas del alumno\") # título del código\n",
    "\n",
    "nota_alumno=input() \n",
    "\n",
    "def evaluacion2(nota):\n",
    "\tvaloracion=\"aprobado\"\n",
    "\tif nota<5:\n",
    "\t\tvaloracion=\"suspenso\"\n",
    "\treturn valoracion\n",
    "\n",
    "print(evaluacion2(int(nota_alumno))) # todo lo que ingresa Python lo considera texto, por ello se utiliza la fuinción int "
   ]
  },
  {
   "cell_type": "markdown",
   "metadata": {},
   "source": [
    "Es válido preguntarse qué pasa si necesitamos evaluar una respuesta que no es dicotómica, es decir que no necesariamente tenga dos resultados posibles. Para ello podemos ocupar el comando \"elif\", el cual nos permite realizar un gradiente de respuestas. Si ninguna de ellas se cumple, el programa leerá la aternativa \"else\". Si se se cumple una alternativa intermedia, el programa ejecutará lo que esté especificado en esa linea de código. \n",
    "\n",
    "En el siguiente ejemplo se evalúa la la edad imputada por un usuario. El programa evaluará las alternativas y pemitirá o negará el acceso a un determinado lugar. \n",
    "\n",
    "Sólo pueden ingresar mayores de edad. Por otro lado el programa respondera con el mensaje \"edad incorrecta\" si el usuario ingresa una edad por sobre los 100 años. Luego el código permite 3 posibles soluciones."
   ]
  },
  {
   "cell_type": "code",
   "execution_count": null,
   "metadata": {},
   "outputs": [],
   "source": [
    "print(\"Verificación de acceso\") # título del código\n",
    "\n",
    "edad_usuario=int(input(\"introduce tu edad, por favor: \"))\n",
    "\n",
    "if edad_usuario<18:\n",
    "\tprint(\"No puedes pasar\")\n",
    "elif edad_usuario>100:\n",
    "\tprint(\"edad incorrecta\")\n",
    "else:\n",
    "\tprint(\"Puedes pasar\")"
   ]
  },
  {
   "cell_type": "markdown",
   "metadata": {},
   "source": [
    "Otro ejemplo con más de 3 alternativas es la identificación de la calidad de un alumno en función de su nota final obtenida."
   ]
  },
  {
   "cell_type": "code",
   "execution_count": null,
   "metadata": {},
   "outputs": [],
   "source": [
    "print(\"Calidad de alumno\") # título del código\n",
    "\n",
    "Nota_Alumno=int(input(\"Ingresa tu nota por favor: \"))\n",
    "\n",
    "if Nota_Alumno<5:\n",
    "\tprint(\"Insuficiente\")\n",
    "elif Nota_Alumno<6:\n",
    "\tprint(\"suficiente\")\n",
    "elif Nota_Alumno<7:\n",
    "\tprint(\"Bien\")\n",
    "elif Nota_Alumno<9:\n",
    "\tprint(\"Notable\")\n",
    "\n",
    "else:\n",
    "\tprint(\"Sobresaliente\")"
   ]
  },
  {
   "cell_type": "markdown",
   "metadata": {},
   "source": [
    "Dentro de las condiciones \"if\" y \"elif\", también se pueden agregar otras condiciones relacionadas a operadores lógicos. Por ejemplo podemos evaluar una lógica jerárquica con los operadores mayor, menor, igual, y sus combinaciones. En este ejemplo evaluaremos los salarios de los empleados perteneciente a una compañía bajo el supuesto de que, a mayor jerarquía mayor salario. \n",
    "\n",
    "Solicitaremos el ingreso del salario por pantalla con el comando input(). Este valor será almacenado en un objeto (salario_presidente, y otros) que a su vez será imprimido y concatenado mediante el símbolo \"+\", y transformado a string (texto). \n",
    "\n",
    "Si la imputación de los salarios tiene sentido jerárquico, se imprimirá el mensaje \"la secuencia tiene lógica, todo funciona bien en la empresa\", de lo contrario se imprimirá la alerta \"Algo falla en la empresa!\". El sentido jerárquico será medido con el operador \"<\" (Recordar que es posible programar utilizando todos los operadores (mayor, menor, igual, etc.)"
   ]
  },
  {
   "cell_type": "code",
   "execution_count": null,
   "metadata": {},
   "outputs": [],
   "source": [
    "print(\"Evalúa si los salarios tenen lógica\")  # título del código\n",
    "\n",
    "\n",
    "salario_presidente=int(input(\"Introduce salario presidente: \"))\n",
    "print(\"salario presidente:\"+ str(salario_presidente))\n",
    "\n",
    "salario_director=int(input(\"Introduce salario director: \"))\n",
    "print(\"salario director:\"+ str(salario_director))\n",
    "\n",
    "salario_jefe_area=int(input(\"Introduce salario jefe de area: \"))\n",
    "print(\"salario jefe de area:\"+ str(salario_jefe_area))\n",
    "\n",
    "salario_administrativo=int(input(\"Introduce salario Administrativo: \"))\n",
    "print(\"salario Administrativo:\"+ str(salario_administrativo))\n",
    "\n",
    "if salario_administrativo<salario_jefe_area<salario_director<salario_presidente:\n",
    "\tprint(\"la secuencia tiene lógica, todo funciona bien en la empresa\")\n",
    "else:\n",
    "\tprint(\"Algo falla en la empresa!\")\t"
   ]
  },
  {
   "cell_type": "markdown",
   "metadata": {},
   "source": [
    "Otros operadores condicionales lógicos son el \"and\" y el \"or\". En el siguiente ejemplo simularemos una evaluación que permita decidir si un alumno tiene o no derecho a beca.\n",
    "\n",
    "Las variables a considerar serán la distancia que existe entre la residencia del alumno y la escuela, el número de hermanos, y el ingreso familiar. \n",
    "\n",
    "Se debe cumplir que el alumno viva a mucha distancia y que tenga muchos hermanos, o que el ingreso familiar sea menor a 200000 para que sea candidato a una beca."
   ]
  },
  {
   "cell_type": "code",
   "execution_count": null,
   "metadata": {},
   "outputs": [],
   "source": [
    "print(\"programa de vecas\") # título del código\n",
    "\n",
    "distancia_escuela=int(input(\"inroduce distancia en km: \"))\n",
    "print(distancia_escuela)\n",
    "\n",
    "numero_hermanos=int(input(\"introduce número hermanos: \"))\n",
    "print(numero_hermanos)\n",
    "\n",
    "salario_familiar=int(input(\"introduce salario anual bruto: \"))\n",
    "print(salario_familiar)\n",
    "\n",
    "if (distancia_escuela>40 and numero_hermanos>2) or salario_familiar<=200000:\n",
    "\n",
    "\tprint(\"tienes derecho a beca\")\n",
    "\n",
    "else:\n",
    "\n",
    "\tprint(\"No tienes derecho a beca\")"
   ]
  },
  {
   "cell_type": "markdown",
   "metadata": {},
   "source": [
    "Finalmente, el último operador condicional que se revisará es el operador \"in\". Este operador nos sirve para consultar si un valor u objeto se encuentra dentro de una lista. Si se cumple esta condición, el operador \"if\" imprimirá un determinado resultado, en caso contrario imprimira otro resultado. \n",
    "\n",
    "Nuevamente se solicitará ingresar la información al usuario, la que será almacenada en un objeto, este será posteriormente imprimido dentro del \"if\". \n",
    "\n",
    "utilizaremos el comando \"lower\" para transformar a minuscula todo el texto ingresado por el usuario, con esto se estandariza el ingreso de la información. Lo anterior queda en evidencia cuando tipeamos cualquier Asignatura de la lista con mayúscula."
   ]
  },
  {
   "cell_type": "code",
   "execution_count": null,
   "metadata": {},
   "outputs": [],
   "source": [
    "print(\"Asignaturas optativa\") # título del código\n",
    "\n",
    "print(\"Las asignaturas optativas son: informática gráfica - pruebas de software - Usabilidad y accesibilidad\")\n",
    "opcion=input(\"escribe la asignatura escogida: \")\n",
    "\n",
    "asignatura=opcion.lower()  #transforma a minusculas\n",
    "\n",
    "if asignatura in (\"informática gráfica\",\"pruebas de software\",\"usabilidad y accesibilidad\"):\n",
    "\n",
    "\tprint(\"Asignatura elegida \" + asignatura)\n",
    "else:\n",
    "\n",
    "\tprint(\"La asignatura no esta contemplada\")\t"
   ]
  },
  {
   "cell_type": "markdown",
   "metadata": {},
   "source": [
    "## Utilización de bucles en python"
   ]
  },
  {
   "cell_type": "markdown",
   "metadata": {},
   "source": [
    "### Bucle For"
   ]
  },
  {
   "cell_type": "markdown",
   "metadata": {},
   "source": [
    "En general, un bucle es una estructura de control que repite un bloque de instrucciones. \n",
    "\n",
    "Revisaremos los bucles \"For\" y \"While\".\n",
    "\n",
    "Un bucle \"for\" repite un número prederminado de veces un bloque de instrucciones . El bloque de instrucciones que se repite se suele llamar cuerpo del bucle, y a cada repetición se le llama iteración.\n",
    "\n",
    "En el ejemplo se presenta un bucle determinado. Se les llama determinados por que son finitos, en este caso la lista tiene 4 elementos los que serán recorridos sólo una vez."
   ]
  },
  {
   "cell_type": "code",
   "execution_count": null,
   "metadata": {
    "scrolled": true
   },
   "outputs": [],
   "source": [
    "print(\"Para i que exista en la tupla, imprime cada elemento\") # título del código\n",
    "\n",
    "for i in [\"primavera\",\"otoño\",\"invierno\",\"verano\"]:\n",
    "\tprint(i)"
   ]
  },
  {
   "cell_type": "markdown",
   "metadata": {},
   "source": [
    "Otra forma de programar y dar formato a la impresión es mediante el comando \"end\", que dejará el texto imprimido de manera horizontal. La cantidad de espacios entre comillas define la la cantidad de espacios existentes entre cada elemento imprimido."
   ]
  },
  {
   "cell_type": "code",
   "execution_count": null,
   "metadata": {},
   "outputs": [],
   "source": [
    "for i in [\"primavera\",\"otoño\",\"invierno\",\"verano\"]:\n",
    "\tprint(i,end=\"      \")"
   ]
  },
  {
   "cell_type": "raw",
   "metadata": {},
   "source": [
    "En el siguiente ejemplo construiremos un validador de correo electrónico que, en primera instancia valida sólo la existencia de un \"@\" en la línea de caracteres ingresada por el usuario. El ingreso de información se consigue nuevamente con la instrucción \"input\".\n",
    "\n",
    "Primero definimos un objeto \"email\" que contiene el booleano \"False\". El bucle recorrerá todos los caracteres tipeados en búsqueda de un \"@\". Si lo encuentra, el condicional \"if\" reemplazará el booleano \"False\" por \"True\", de no ser así el objeto email definido en un principio no cambiara y seguirá conteniendo \"False\". \n",
    "\n",
    "El programa reconocerá el final de esta parte del código mediante la identación (\"sangría del código) y comenzará a leer la segunda secuencia de códigos iniciada por el segundo \"if\", consultará por el estado del objeto email. Si este contiene el booleano \"True\" imprimirá el mensaje \"el correo es correcto\", en otro caso (else) imprimirá \"el correo no es correto\"."
   ]
  },
  {
   "cell_type": "code",
   "execution_count": null,
   "metadata": {},
   "outputs": [],
   "source": [
    "email=False\n",
    "\n",
    "miemail=input(\"introduce tu mail: \")\n",
    "\n",
    "for i in miemail:\n",
    "\n",
    "\tif(i ==\"@\"):\n",
    "\n",
    "\t\temail=True\n",
    "\n",
    "if \temail == True:\n",
    "\tprint(\"el correo es correcto\")\t\n",
    "else: \n",
    "\tprint(\"el correo no es correto\")"
   ]
  },
  {
   "cell_type": "markdown",
   "metadata": {},
   "source": [
    "Otra forma de realizar lo mismo es con la función \"range\" que indicará al bucle dar tantas vueltas como caracteres existan el el correo ingresado."
   ]
  },
  {
   "cell_type": "code",
   "execution_count": null,
   "metadata": {},
   "outputs": [],
   "source": [
    "email=False\n",
    "\n",
    "miemail=input(\"introdce tu mail: \")\n",
    "\n",
    "for i in range(len(miemail)): \n",
    "\n",
    "\tif miemail[i]==\"@\": \n",
    "\n",
    "\t\temail=True\n",
    "\n",
    "if email:\n",
    "\n",
    "\tprint(\"email correcto\")\n",
    "\n",
    "else:\n",
    "\n",
    "\tprint(\"email incorrecto\")\t"
   ]
  },
  {
   "cell_type": "markdown",
   "metadata": {},
   "source": [
    "Para encontrar más de un caracter es posible definir un contador que será incrementado según el número veces en que aparezcan los caracteres buscados.\n",
    "\n",
    "Se inicia un objeto contador con el valor \"0\". El usuario ingresa su correo el cual será almacenado en el objeto miemail, y que a su vez es recorrido por el bucle \"for\". En esta parte se sumará una unidad al contador cada vez que encuentre un caractere de los buscados. nuevamente la identación del código indicará el final de la primera parte para ingresar a la segunda iniciada por un segundo \"if\", el cual evalúa el valor del contador. Si este es igual a 2 imprimirá \"el correo es correcto\", de lo contrario imprirá \"el correo no es correto\"."
   ]
  },
  {
   "cell_type": "code",
   "execution_count": null,
   "metadata": {},
   "outputs": [],
   "source": [
    "contador=0\n",
    "\n",
    "miemail=input(\"introduce tu mail: \")\n",
    "\n",
    "for i in miemail:\n",
    " \tif(i==\"@\" or i==\".\"):\n",
    " \t\tcontador=contador+1\n",
    "\n",
    "if contador==2:\n",
    " \tprint(\"el correo es correcto\")\n",
    "else:\n",
    " \tprint(\"el correo no es correto\")\n"
   ]
  },
  {
   "cell_type": "markdown",
   "metadata": {},
   "source": [
    "Imprimiendo el contador comprobamos el funcionamiento del código."
   ]
  },
  {
   "cell_type": "code",
   "execution_count": null,
   "metadata": {
    "slideshow": {
     "slide_type": "notes"
    }
   },
   "outputs": [],
   "source": [
    "print(contador)"
   ]
  },
  {
   "cell_type": "markdown",
   "metadata": {},
   "source": [
    "### Bucle While"
   ]
  },
  {
   "cell_type": "markdown",
   "metadata": {},
   "source": [
    "Un bucle while permite repetir la ejecución de un grupo de instrucciones siempre que se cumpla una condición (es decir, mientras la condición tenga el valor True). De alguna forma esto debe limitarse ya que si no se hace el bucle podría ser infinito.\n",
    "\n",
    "En el ejemplo, \"i\" comienza valiendo 1 y aumentará de 1 en 1 hasta ser menor o igual a 10. Lo que se le está solicitando a python en que vaya sumando de una unidad, y cada vez que lo haga imprima el texto \"Ejecucion\" concatenado mediante el signo \"+\" con el resultado \"i\". "
   ]
  },
  {
   "cell_type": "code",
   "execution_count": null,
   "metadata": {},
   "outputs": [],
   "source": [
    "i=1\n",
    "\n",
    "while i <= 10:\n",
    "\tprint(\"Ejecución \" + str(i))\n",
    "\ti=i+1 # si no agregamos esto, el bucle se realizará infinitamente\n"
   ]
  },
  {
   "cell_type": "markdown",
   "metadata": {},
   "source": [
    "Imprimiendo el objeto \"i\"  comprobamos el resultado. Notar que en el contador se crea el valor 11, sin embargo no se imprime dado que no cumple la condición <=10. "
   ]
  },
  {
   "cell_type": "code",
   "execution_count": null,
   "metadata": {},
   "outputs": [],
   "source": [
    "print(i)"
   ]
  },
  {
   "cell_type": "markdown",
   "metadata": {},
   "source": [
    "En el ejemplo anterior desarrollamos un bucle \"while\" finito, pero en ocasiones es necesario programar un blucle infinito. Por ejemplo la imputación erronea de una información por parte del usuario sin límite de intentos. \n",
    "En el siguinete ejemplo se simula esta situación considerando imputar una edad erronea (menor a 5 o mayor a 100 años). De ocurrir este error, consultará nuevamente la edad hasta ingresar una edad correcta, con ello python saldrá del bucle para imprimir un par de mensajes. "
   ]
  },
  {
   "cell_type": "code",
   "execution_count": null,
   "metadata": {},
   "outputs": [],
   "source": [
    "edad=int(input(\"Introduce edad :\"))\n",
    "\n",
    "while edad<5 or edad >100 :\n",
    "\tprint(\"edad error\")\n",
    "\tedad=int(input(\"Introduce edad :\"))\n",
    "\n",
    "print(\"gracias\")\n",
    "print(\"edad\" + str(edad))\t"
   ]
  },
  {
   "cell_type": "markdown",
   "metadata": {},
   "source": [
    "Otra situación de bucle finito podría ser el intentar imputar  una clave de cajero automático o calcular una raiz cuadrada, pero en esta ocasión restringiendo el número de intentos. Cuando se alcance el número de intentos se le instruye a python salir del código.\n",
    "\n",
    "En el siguiente ejemplo se calcula la raíz cuadrada de un número ingresado por el usuario. El bucle \"while\" nos permitirá intentar ingresar números negativos sólo en 3 intentos, luego el programa nos sacará del código mediante el comando \"break\", sin que este pueda leer la siguiente instrucción \"if\" que utiliza la clase \"math\" para el cálculo de la raiz. \n",
    "\n",
    "Si el número de intentos es menor a 3, es decir, se imputa un número al cual se le pueda calcular su raiz antes de consumir el numero de intentos, entonces se calculará la raíz cuadrada del número con el método \"sqrt\", y este será imprimido en un mensaje. "
   ]
  },
  {
   "cell_type": "code",
   "execution_count": null,
   "metadata": {
    "scrolled": true
   },
   "outputs": [],
   "source": [
    "import math #importaremos la clase math con todos sus metodos \n",
    "\n",
    "print(\"programa calculo raiz cuadrada\")\n",
    "numero=int(input(\"introduce un numero : \"))\n",
    "\n",
    "intentos=1\n",
    "\n",
    "while numero <0:\n",
    "\tprint(\"no se puede hallar raiz de un negativo\")\n",
    "\t\n",
    "\tif intentos==3:\n",
    "\t\tprint(\"has consumido muchos intentos\")\n",
    "\t\tbreak;\n",
    "\n",
    "\tnumero=int(input(\"introduce un numero : \"))\n",
    "\tif numero<0:\n",
    "\t\tintentos=intentos+1\n",
    "\n",
    "if intentos<3:\n",
    "\tsolucion=math.sqrt(numero)\n",
    "\tprint(\"la raiz de \"+ str(numero) + \" es \" + str(solucion))\n",
    "\n"
   ]
  },
  {
   "cell_type": "code",
   "execution_count": null,
   "metadata": {},
   "outputs": [],
   "source": []
  }
 ],
 "metadata": {
  "kernelspec": {
   "display_name": "Python 3",
   "language": "python",
   "name": "python3"
  },
  "language_info": {
   "codemirror_mode": {
    "name": "ipython",
    "version": 3
   },
   "file_extension": ".py",
   "mimetype": "text/x-python",
   "name": "python",
   "nbconvert_exporter": "python",
   "pygments_lexer": "ipython3",
   "version": "3.7.4"
  }
 },
 "nbformat": 4,
 "nbformat_minor": 2
}
